{
  "nbformat": 4,
  "nbformat_minor": 0,
  "metadata": {
    "colab": {
      "name": "BasicPython.ipynb",
      "provenance": [],
      "authorship_tag": "ABX9TyOJf6UZR8HsvamP3gnt2bdH",
      "include_colab_link": true
    },
    "kernelspec": {
      "name": "python3",
      "display_name": "Python 3"
    },
    "language_info": {
      "name": "python"
    }
  },
  "cells": [
    {
      "cell_type": "markdown",
      "metadata": {
        "id": "view-in-github",
        "colab_type": "text"
      },
      "source": [
        "<a href=\"https://colab.research.google.com/github/barkhakabra24/Employee_Management_System/blob/master/BasicPython.ipynb\" target=\"_parent\"><img src=\"https://colab.research.google.com/assets/colab-badge.svg\" alt=\"Open In Colab\"/></a>"
      ]
    },
    {
      "cell_type": "code",
      "metadata": {
        "id": "cAAvGXeDZ3Jp"
      },
      "source": [
        "import pandas as pd \n",
        "import numpy as np\n",
        "import matplotlib.pyplot as plt\n",
        "import seaborn as sns\n",
        "%matplotlib inline"
      ],
      "execution_count": 1,
      "outputs": []
    },
    {
      "cell_type": "code",
      "metadata": {
        "colab": {
          "base_uri": "https://localhost:8080/",
          "height": 206
        },
        "id": "z2qzLB4_aDeu",
        "outputId": "189cf182-47bb-49b2-9e49-302400efe69e"
      },
      "source": [
        "data = sns.load_dataset('tips')\n",
        "data.head()"
      ],
      "execution_count": 2,
      "outputs": [
        {
          "output_type": "execute_result",
          "data": {
            "text/html": [
              "<div>\n",
              "<style scoped>\n",
              "    .dataframe tbody tr th:only-of-type {\n",
              "        vertical-align: middle;\n",
              "    }\n",
              "\n",
              "    .dataframe tbody tr th {\n",
              "        vertical-align: top;\n",
              "    }\n",
              "\n",
              "    .dataframe thead th {\n",
              "        text-align: right;\n",
              "    }\n",
              "</style>\n",
              "<table border=\"1\" class=\"dataframe\">\n",
              "  <thead>\n",
              "    <tr style=\"text-align: right;\">\n",
              "      <th></th>\n",
              "      <th>total_bill</th>\n",
              "      <th>tip</th>\n",
              "      <th>sex</th>\n",
              "      <th>smoker</th>\n",
              "      <th>day</th>\n",
              "      <th>time</th>\n",
              "      <th>size</th>\n",
              "    </tr>\n",
              "  </thead>\n",
              "  <tbody>\n",
              "    <tr>\n",
              "      <th>0</th>\n",
              "      <td>16.99</td>\n",
              "      <td>1.01</td>\n",
              "      <td>Female</td>\n",
              "      <td>No</td>\n",
              "      <td>Sun</td>\n",
              "      <td>Dinner</td>\n",
              "      <td>2</td>\n",
              "    </tr>\n",
              "    <tr>\n",
              "      <th>1</th>\n",
              "      <td>10.34</td>\n",
              "      <td>1.66</td>\n",
              "      <td>Male</td>\n",
              "      <td>No</td>\n",
              "      <td>Sun</td>\n",
              "      <td>Dinner</td>\n",
              "      <td>3</td>\n",
              "    </tr>\n",
              "    <tr>\n",
              "      <th>2</th>\n",
              "      <td>21.01</td>\n",
              "      <td>3.50</td>\n",
              "      <td>Male</td>\n",
              "      <td>No</td>\n",
              "      <td>Sun</td>\n",
              "      <td>Dinner</td>\n",
              "      <td>3</td>\n",
              "    </tr>\n",
              "    <tr>\n",
              "      <th>3</th>\n",
              "      <td>23.68</td>\n",
              "      <td>3.31</td>\n",
              "      <td>Male</td>\n",
              "      <td>No</td>\n",
              "      <td>Sun</td>\n",
              "      <td>Dinner</td>\n",
              "      <td>2</td>\n",
              "    </tr>\n",
              "    <tr>\n",
              "      <th>4</th>\n",
              "      <td>24.59</td>\n",
              "      <td>3.61</td>\n",
              "      <td>Female</td>\n",
              "      <td>No</td>\n",
              "      <td>Sun</td>\n",
              "      <td>Dinner</td>\n",
              "      <td>4</td>\n",
              "    </tr>\n",
              "  </tbody>\n",
              "</table>\n",
              "</div>"
            ],
            "text/plain": [
              "   total_bill   tip     sex smoker  day    time  size\n",
              "0       16.99  1.01  Female     No  Sun  Dinner     2\n",
              "1       10.34  1.66    Male     No  Sun  Dinner     3\n",
              "2       21.01  3.50    Male     No  Sun  Dinner     3\n",
              "3       23.68  3.31    Male     No  Sun  Dinner     2\n",
              "4       24.59  3.61  Female     No  Sun  Dinner     4"
            ]
          },
          "metadata": {
            "tags": []
          },
          "execution_count": 2
        }
      ]
    },
    {
      "cell_type": "code",
      "metadata": {
        "colab": {
          "base_uri": "https://localhost:8080/"
        },
        "id": "-p1anWyjaLfe",
        "outputId": "263405ff-41e7-485b-e492-1a1adbac44aa"
      },
      "source": [
        "day = data.groupby('day')['total_bill']\n",
        "print(list(day))"
      ],
      "execution_count": 6,
      "outputs": [
        {
          "output_type": "stream",
          "text": [
            "[('Thur', 77     27.20\n",
            "78     22.76\n",
            "79     17.29\n",
            "80     19.44\n",
            "81     16.66\n",
            "       ...  \n",
            "202    13.00\n",
            "203    16.40\n",
            "204    20.53\n",
            "205    16.47\n",
            "243    18.78\n",
            "Name: total_bill, Length: 62, dtype: float64), ('Fri', 90     28.97\n",
            "91     22.49\n",
            "92      5.75\n",
            "93     16.32\n",
            "94     22.75\n",
            "95     40.17\n",
            "96     27.28\n",
            "97     12.03\n",
            "98     21.01\n",
            "99     12.46\n",
            "100    11.35\n",
            "101    15.38\n",
            "220    12.16\n",
            "221    13.42\n",
            "222     8.58\n",
            "223    15.98\n",
            "224    13.42\n",
            "225    16.27\n",
            "226    10.09\n",
            "Name: total_bill, dtype: float64), ('Sat', 19     20.65\n",
            "20     17.92\n",
            "21     20.29\n",
            "22     15.77\n",
            "23     39.42\n",
            "       ...  \n",
            "238    35.83\n",
            "239    29.03\n",
            "240    27.18\n",
            "241    22.67\n",
            "242    17.82\n",
            "Name: total_bill, Length: 87, dtype: float64), ('Sun', 0      16.99\n",
            "1      10.34\n",
            "2      21.01\n",
            "3      23.68\n",
            "4      24.59\n",
            "       ...  \n",
            "186    20.90\n",
            "187    30.46\n",
            "188    18.15\n",
            "189    23.10\n",
            "190    15.69\n",
            "Name: total_bill, Length: 76, dtype: float64)]\n"
          ],
          "name": "stdout"
        }
      ]
    },
    {
      "cell_type": "code",
      "metadata": {
        "colab": {
          "base_uri": "https://localhost:8080/"
        },
        "id": "Px27v3QhafkD",
        "outputId": "3f2be45c-0509-4454-e581-b8a11931d378"
      },
      "source": [
        "day = data.groupby('day')['total_bill'].sum()\n",
        "print(day)"
      ],
      "execution_count": 12,
      "outputs": [
        {
          "output_type": "stream",
          "text": [
            "day\n",
            "Thur    1096.33\n",
            "Fri      325.88\n",
            "Sat     1778.40\n",
            "Sun     1627.16\n",
            "Name: total_bill, dtype: float64\n"
          ],
          "name": "stdout"
        }
      ]
    },
    {
      "cell_type": "code",
      "metadata": {
        "colab": {
          "base_uri": "https://localhost:8080/"
        },
        "id": "k7ZixewMayYR",
        "outputId": "04490695-4da2-4016-d999-89a589f7aef0"
      },
      "source": [
        "day = data.groupby('day')['total_bill'].sum().reset_index()\n",
        "print(day)"
      ],
      "execution_count": 11,
      "outputs": [
        {
          "output_type": "stream",
          "text": [
            "    day  total_bill\n",
            "0  Thur     1096.33\n",
            "1   Fri      325.88\n",
            "2   Sat     1778.40\n",
            "3   Sun     1627.16\n"
          ],
          "name": "stdout"
        }
      ]
    },
    {
      "cell_type": "code",
      "metadata": {
        "id": "u0NQPwbKbAqS"
      },
      "source": [
        ""
      ],
      "execution_count": null,
      "outputs": []
    }
  ]
}